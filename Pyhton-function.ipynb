{
 "cells": [
  {
   "cell_type": "code",
   "execution_count": 6,
   "metadata": {},
   "outputs": [
    {
     "name": "stdout",
     "output_type": "stream",
     "text": [
      "Hi!\n"
     ]
    }
   ],
   "source": [
    "import numpy as np\n",
    "def my_func1():\n",
    "    print('Hi!')\n",
    "\n",
    "my_func1()"
   ]
  },
  {
   "cell_type": "code",
   "execution_count": 4,
   "metadata": {},
   "outputs": [
    {
     "data": {
      "text/plain": [
       "10"
      ]
     },
     "execution_count": 4,
     "metadata": {},
     "output_type": "execute_result"
    }
   ],
   "source": [
    "def my_func2(a,b):\n",
    "    c = a + b\n",
    "    return c\n",
    "\n",
    "my_func2(1,9)"
   ]
  },
  {
   "cell_type": "code",
   "execution_count": 30,
   "metadata": {},
   "outputs": [
    {
     "name": "stdout",
     "output_type": "stream",
     "text": [
      "mean:0.17, std:1.02\n"
     ]
    }
   ],
   "source": [
    "def my_func3(D):\n",
    "    m = np.mean(D)\n",
    "    s = np.std(D)\n",
    "    return m,s\n",
    "\n",
    "data = np.random.randn(100)\n",
    "data_mean, data_std = my_func3(data)\n",
    "\n",
    "print('mean:{0:3.2f}, std:{1:3.2f}'.format(data_mean, data_std))"
   ]
  },
  {
   "cell_type": "code",
   "execution_count": 32,
   "metadata": {},
   "outputs": [
    {
     "name": "stdout",
     "output_type": "stream",
     "text": [
      "(0.17384517349772402, 1.02395480643712)\n",
      "<class 'tuple'>\n",
      "mean:0.17, std:1.02\n"
     ]
    }
   ],
   "source": [
    "output = my_func3(data)\n",
    "print(output)\n",
    "print(type(output))\n",
    "print('mean:{0:3.2f}, std:{1:3.2f}'.format(output[0], output[1]))"
   ]
  }
 ],
 "metadata": {
  "kernelspec": {
   "display_name": "Python 3",
   "language": "python",
   "name": "python3"
  },
  "language_info": {
   "codemirror_mode": {
    "name": "ipython",
    "version": 3
   },
   "file_extension": ".py",
   "mimetype": "text/x-python",
   "name": "python",
   "nbconvert_exporter": "python",
   "pygments_lexer": "ipython3",
   "version": "3.7.4"
  }
 },
 "nbformat": 4,
 "nbformat_minor": 2
}
