{
 "cells": [
  {
   "cell_type": "code",
   "execution_count": 11,
   "metadata": {},
   "outputs": [
    {
     "name": "stdout",
     "output_type": "stream",
     "text": [
      "[-0.73533358 -0.79566429 -0.95793588  0.42393119  0.08970654]\n",
      "[]\n",
      "[-0.73533358 -0.79566429 -0.95793588  0.42393119  0.08970654]\n"
     ]
    }
   ],
   "source": [
    "import numpy as np\n",
    "\n",
    "data = np.random.randn(5)  #임의 정보 입력\n",
    "print(data)\n",
    "\n",
    "np.save('12345.npy',data) # 파일 저장\n",
    "data = []\n",
    "print(data)\n",
    "\n",
    "data = np.load('12345.npy') #파일 로드\n",
    "print(data)"
   ]
  },
  {
   "cell_type": "code",
   "execution_count": 24,
   "metadata": {},
   "outputs": [
    {
     "name": "stdout",
     "output_type": "stream",
     "text": [
      "['data1', 'data2']\n",
      "[1 2 3]\n",
      "[10 20 30]\n"
     ]
    }
   ],
   "source": [
    "data1 = np.array([1,2,3])\n",
    "data2 = np.array([10,20,30])\n",
    "np.savez('datafile2.npz', data1 = data1, data2 = data2) #세이브\n",
    "data1 = [] # 데이터 삭제\n",
    "data2 = []\n",
    "outfile = np.load('datafile2.npz') #로드\n",
    "print(outfile.files)\n",
    "data1 = outfile['data1'] #data1 꺼내기\n",
    "data2 = outfile['data2'] #data2 꺼내기\n",
    "print(data1)\n",
    "print(data2)"
   ]
  }
 ],
 "metadata": {
  "kernelspec": {
   "display_name": "Python 3",
   "language": "python",
   "name": "python3"
  },
  "language_info": {
   "codemirror_mode": {
    "name": "ipython",
    "version": 3
   },
   "file_extension": ".py",
   "mimetype": "text/x-python",
   "name": "python",
   "nbconvert_exporter": "python",
   "pygments_lexer": "ipython3",
   "version": "3.7.4"
  }
 },
 "nbformat": 4,
 "nbformat_minor": 2
}
