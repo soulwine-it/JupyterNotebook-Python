{
 "cells": [
  {
   "cell_type": "code",
   "execution_count": 4,
   "metadata": {},
   "outputs": [
    {
     "name": "stdout",
     "output_type": "stream",
     "text": [
      "[[1 2 3]\n",
      " [4 5 6]]\n"
     ]
    }
   ],
   "source": [
    "import numpy as np\n",
    "x = np.array([[1,2,3],[4,5,6]])\n",
    "print(x)"
   ]
  },
  {
   "cell_type": "markdown",
   "metadata": {},
   "source": [
    "행렬의 크기는 ndarray변수명.shape 명령으로 알 수 있습니다."
   ]
  },
  {
   "cell_type": "code",
   "execution_count": 6,
   "metadata": {},
   "outputs": [
    {
     "data": {
      "text/plain": [
       "(2, 3)"
      ]
     },
     "execution_count": 6,
     "metadata": {},
     "output_type": "execute_result"
    }
   ],
   "source": [
    "x.shape"
   ]
  },
  {
   "cell_type": "code",
   "execution_count": 14,
   "metadata": {},
   "outputs": [
    {
     "name": "stdout",
     "output_type": "stream",
     "text": [
      "2\n",
      "3\n",
      "<class 'tuple'>\n",
      "<class 'numpy.ndarray'>\n"
     ]
    }
   ],
   "source": [
    "# 이 출력은()로 둘러싸여 있으므로 tuple형으로 나타납니다. 다음과 같이 입력하여 w와 h에 각각 2와 3을 저장할 수 있습니다.\n",
    "w, h = x.shape\n",
    "print(w)\n",
    "print(h)\n",
    "print(type(x.shape))\n",
    "print(type(x))"
   ]
  },
  {
   "cell_type": "code",
   "execution_count": 16,
   "metadata": {},
   "outputs": [
    {
     "data": {
      "text/plain": [
       "6"
      ]
     },
     "execution_count": 16,
     "metadata": {},
     "output_type": "execute_result"
    }
   ],
   "source": [
    "# 요소의 참조\n",
    "x = np.array([[1,2,3],[4,5,6]])\n",
    "x[1,2] "
   ]
  },
  {
   "cell_type": "code",
   "execution_count": 24,
   "metadata": {},
   "outputs": [
    {
     "name": "stdout",
     "output_type": "stream",
     "text": [
      "[[  1   2 300]\n",
      " [  4   5   6]]\n"
     ]
    }
   ],
   "source": [
    "# 요소의 수정\n",
    "x = np.array([[1,2,3],[4,5,6]])\n",
    "x[0,2] = 300\n",
    "print(x)"
   ]
  },
  {
   "cell_type": "code",
   "execution_count": 36,
   "metadata": {},
   "outputs": [
    {
     "name": "stdout",
     "output_type": "stream",
     "text": [
      "[0. 0. 0. 0. 0. 0. 0. 0. 0. 0.]\n",
      "[[0. 0. 0. 0. 0. 0. 0. 0. 0. 0.]\n",
      " [0. 0. 0. 0. 0. 0. 0. 0. 0. 0.]]\n",
      "[1. 1. 1. 1. 1. 1. 1. 1. 1. 1.]\n",
      "[[1. 1. 1. 1. 1. 1. 1. 1. 1. 1.]\n",
      " [1. 1. 1. 1. 1. 1. 1. 1. 1. 1.]\n",
      " [1. 1. 1. 1. 1. 1. 1. 1. 1. 1.]\n",
      " [1. 1. 1. 1. 1. 1. 1. 1. 1. 1.]\n",
      " [1. 1. 1. 1. 1. 1. 1. 1. 1. 1.]]\n"
     ]
    }
   ],
   "source": [
    "print(np.zeros(10))\n",
    "\n",
    "print(np.zeros((2, 10)))\n",
    "\n",
    "print(np.ones(10))\n",
    "\n",
    "print(np.ones((5,10)))"
   ]
  },
  {
   "cell_type": "code",
   "execution_count": 48,
   "metadata": {},
   "outputs": [
    {
     "name": "stdout",
     "output_type": "stream",
     "text": [
      "[[0.18416384 0.59355989 0.14383062]\n",
      " [0.07045159 0.87947735 0.35563035]]\n",
      "[[ 0.61689258 -1.77575332  0.35401612  0.93112021]\n",
      " [-0.14592663  0.14216886 -0.51829656  0.78396991]\n",
      " [-1.06567369 -0.29492083  0.6411016  -0.22388893]]\n",
      "[4 4 6 4 6 5 6 5 6 6]\n"
     ]
    }
   ],
   "source": [
    "print(np.random.rand(2,3))  # 2행 3열\n",
    "print(np.random.randn(3,4)) # 3행 4열\n",
    "print(np.random.randint(3, 7, 10)) # 3부터 7까지 길이"
   ]
  },
  {
   "cell_type": "code",
   "execution_count": 51,
   "metadata": {},
   "outputs": [
    {
     "name": "stdout",
     "output_type": "stream",
     "text": [
      "[ 0  1  2  3  4  5  6  7  8  9 10 11 12 13 14]\n"
     ]
    },
    {
     "data": {
      "text/plain": [
       "array([[ 0,  1,  2,  3,  4],\n",
       "       [ 5,  6,  7,  8,  9],\n",
       "       [10, 11, 12, 13, 14]])"
      ]
     },
     "execution_count": 51,
     "metadata": {},
     "output_type": "execute_result"
    }
   ],
   "source": [
    "a= np.arange(15)\n",
    "print(a)\n",
    "a.reshape(3,5)"
   ]
  },
  {
   "cell_type": "code",
   "execution_count": 53,
   "metadata": {},
   "outputs": [
    {
     "name": "stdout",
     "output_type": "stream",
     "text": [
      "[[5 5 5]\n",
      " [7 7 7]]\n"
     ]
    }
   ],
   "source": [
    "x = np.array([[3,3,3],[5,5,5]])\n",
    "y = np.array([[2,2,2],[2,2,2]])\n",
    "print(x+y)"
   ]
  },
  {
   "cell_type": "code",
   "execution_count": 59,
   "metadata": {},
   "outputs": [
    {
     "name": "stdout",
     "output_type": "stream",
     "text": [
      "[[ 8  8  8]\n",
      " [16 16 16]]\n"
     ]
    }
   ],
   "source": [
    "# 스칼라 행렬 곱\n",
    "x = np.array([[4,4,4],[8,8,8]])\n",
    "print(2 * x)\n",
    "\n"
   ]
  },
  {
   "cell_type": "code",
   "execution_count": 61,
   "metadata": {},
   "outputs": [
    {
     "name": "stdout",
     "output_type": "stream",
     "text": [
      "[[14 14]\n",
      " [32 32]]\n"
     ]
    }
   ],
   "source": [
    "# 행렬 곱의 계산\n",
    "# 변수명A.dot(변수명B)\n",
    "v = np.array([[1,2,3],[4,5,6]])\n",
    "w = np.array([[1,1],[2,2],[3,3]])\n",
    "print(v.dot(w))"
   ]
  }
 ],
 "metadata": {
  "kernelspec": {
   "display_name": "Python 3",
   "language": "python",
   "name": "python3"
  },
  "language_info": {
   "codemirror_mode": {
    "name": "ipython",
    "version": 3
   },
   "file_extension": ".py",
   "mimetype": "text/x-python",
   "name": "python",
   "nbconvert_exporter": "python",
   "pygments_lexer": "ipython3",
   "version": "3.7.4"
  }
 },
 "nbformat": 4,
 "nbformat_minor": 2
}
